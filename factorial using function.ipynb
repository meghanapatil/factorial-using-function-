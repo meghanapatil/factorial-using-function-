{
 "cells": [
  {
   "cell_type": "code",
   "execution_count": 1,
   "metadata": {},
   "outputs": [
    {
     "name": "stdout",
     "output_type": "stream",
     "text": [
      "Enter your Number: 5\n",
      "fact for no: 5 is 120\n"
     ]
    }
   ],
   "source": [
    "n=int(input(\"Enter your Number: \"))\n",
    "def fact(n):\n",
    "    facto=1\n",
    "    if n<0:\n",
    "        print(\"Negavtive Number Does Not Exist\")\n",
    "    elif n == 0:\n",
    "        print(\"Factorial for No 0 is 1\")\n",
    "    else:\n",
    "        for i in range(1,n+1):\n",
    "            facto=facto*i\n",
    "        print(\"fact for no:\",n,\"is\",facto)\n",
    "fact(n)"
   ]
  },
  {
   "cell_type": "code",
   "execution_count": null,
   "metadata": {},
   "outputs": [],
   "source": []
  }
 ],
 "metadata": {
  "kernelspec": {
   "display_name": "Python 3",
   "language": "python",
   "name": "python3"
  },
  "language_info": {
   "codemirror_mode": {
    "name": "ipython",
    "version": 3
   },
   "file_extension": ".py",
   "mimetype": "text/x-python",
   "name": "python",
   "nbconvert_exporter": "python",
   "pygments_lexer": "ipython3",
   "version": "3.7.1"
  }
 },
 "nbformat": 4,
 "nbformat_minor": 2
}
